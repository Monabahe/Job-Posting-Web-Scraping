{
 "cells": [
  {
   "cell_type": "markdown",
   "id": "cfd4ce8c",
   "metadata": {},
   "source": [
    "# Web Scraping Project 1.0\n",
    "**Project Name - Job Analytics** \n",
    "\n",
    "**URL** =  https://www.instahyre.com/python-jobs\n",
    "\n",
    "**Project Objective** - In this project, I employed Python web scraping to extract over 300 job listings pertaining to Python roles from the Instahyre website. Subsequently, I compiled a dataset containing specific details for each job listing.\n",
    "\n",
    "**Description** - This job analytics web scraping project utilized various Python libraries for enhanced data extraction. Additionally, I employed other Python libraries such as Pandas to store the data into a dataframe, and implemented functions to extract specific data points. The extracted data included company names, positions, locations, founding details, and required skills for each job.\n",
    "\n",
    "**About the website** - Instahyre is a job posting website where new jobs are posted daily. Its filter section allows users to search for specific jobs of interest.\n"
   ]
  },
  {
   "cell_type": "code",
   "execution_count": 1,
   "id": "ec08e055",
   "metadata": {},
   "outputs": [
    {
     "name": "stderr",
     "output_type": "stream",
     "text": [
      "C:\\Users\\CW\\anaconda3\\Lib\\site-packages\\pandas\\core\\arrays\\masked.py:60: UserWarning: Pandas requires version '1.3.6' or newer of 'bottleneck' (version '1.3.5' currently installed).\n",
      "  from pandas.core import (\n"
     ]
    }
   ],
   "source": [
    "# python libraries for web scraping \n",
    "from bs4 import BeautifulSoup\n",
    "from selenium import webdriver\n",
    "from selenium.webdriver.common.by import By\n",
    "from selenium.webdriver.common.keys import Keys\n",
    "import time\n",
    "import requests\n",
    "\n",
    "# for creating a dataframe\n",
    "import pandas as pd"
   ]
  },
  {
   "cell_type": "markdown",
   "id": "9e99b704",
   "metadata": {},
   "source": [
    "**Checking the response of the website**"
   ]
  },
  {
   "cell_type": "code",
   "execution_count": 2,
   "id": "65326333",
   "metadata": {},
   "outputs": [
    {
     "name": "stdout",
     "output_type": "stream",
     "text": [
      "<Response [200]>\n"
     ]
    }
   ],
   "source": [
    "# getting the url \n",
    "\n",
    "url = \"https://www.instahyre.com/python-jobs\"\n",
    "headers = {\"User-Agent\":\"Mozilla/5.0 (Windows NT 10.0; Win64; x64) AppleWebKit/537.36 (KHTML, like Gecko) Chrome/123.0.0.0 Safari/537.36\"}\n",
    "response = requests.get(url, headers = headers)\n",
    "\n",
    "#checking the response\n",
    "print(response)"
   ]
  },
  {
   "cell_type": "markdown",
   "id": "00a3b716",
   "metadata": {},
   "source": [
    "**Using Selenium library for extracting the data**"
   ]
  },
  {
   "cell_type": "code",
   "execution_count": 3,
   "id": "3b84067f",
   "metadata": {},
   "outputs": [],
   "source": [
    "web = \"https://www.instahyre.com/python-jobs\"\n",
    "\n",
    "#for specifying the web driver\n",
    "driver = webdriver.Chrome()\n",
    "\n",
    "# for website automation\n",
    "driver.get(web)"
   ]
  },
  {
   "cell_type": "code",
   "execution_count": 4,
   "id": "40ef1e5f",
   "metadata": {},
   "outputs": [],
   "source": [
    "'''Creating a blank list to store all the data'''\n",
    "\n",
    "job_name = []\n",
    "location = []\n",
    "founded = []\n",
    "employees = []\n",
    "about = []\n",
    "skills = []\n",
    "links = []\n",
    "\n",
    "# for iterating to next page:\n",
    "for j in range(80): # 80 because i want to extract more than 300 details and there are some null values\n",
    "    \n",
    "    n = driver.find_elements(By.XPATH, '//div[@class = \"employer-details col-md-10 col-sm-8 col-xs-10\"]//div[@class = \"employer-job-name\"]')\n",
    "    l = driver.find_elements(By.XPATH, '//div[@class=\"employer-locations\"]/span/span[@class = \"ng-binding ng-scope\"]')\n",
    "    f = driver.find_elements(By.XPATH, '//span[@ng-if=\"opp.employer.company_founded\"]/span[@class=\"ng-binding\"]') \n",
    "    e = driver.find_elements(By.XPATH, '//span[@ng-if=\"opp.employer.employee_count\"]/span[@class=\"ng-binding\"]')\n",
    "    a = driver.find_elements(By.XPATH, '//div[@ng-if=\"opp.employer.instahyre_note\"]')\n",
    "    s = driver.find_elements(By.XPATH, '//div[@class=\"job-skills ng-scope\"]/ul[@class=\"tags candidate-opp-keywords\"]')\n",
    "    li = driver.find_elements(By.XPATH, '//div[@class=\"opportunity-action-links opportunity-action-links-desktop col-md-2 col-sm-2 col-xs-12 pull-right\"]//a[@target=\"_blank\"]')\n",
    "    \n",
    "    for i in range(20): # for extracting all 20 details that is in one page one by one for 300 details \n",
    "\n",
    "        # using try and except method to avoid errors\n",
    "        #for name\n",
    "        try:\n",
    "            job_name.append(n[i].text)\n",
    "        except Exception:\n",
    "            job_name.append(None)\n",
    "            \n",
    "        #for location:\n",
    "        try:\n",
    "            location.append(l[i].text)\n",
    "        except Exception:\n",
    "            location.append(None)\n",
    "        \n",
    "        #for founded:\n",
    "        try:\n",
    "            founded.append(f[i].text)\n",
    "        except Exception:\n",
    "            founded.append(None)\n",
    "            \n",
    "        #for employees:\n",
    "        try:\n",
    "            employees.append(e[i].text)\n",
    "        except Exception:\n",
    "            employees.append(None)\n",
    "        \n",
    "        #for about:\n",
    "        try:\n",
    "            about.append(a[i].text)\n",
    "        except Exception:\n",
    "            about.append(None)\n",
    "            \n",
    "        #for skills:\n",
    "        try:\n",
    "            skills.append(s[i].text.split(\"\\n\"))\n",
    "        except Exception:\n",
    "            skills.append(None)\n",
    "            \n",
    "        #for links:\n",
    "        try:\n",
    "            links.append(li[i].get_attribute(\"href\"))\n",
    "        except Exception:\n",
    "            links.append(None)\n",
    "    \n",
    "    #code for going to next page \n",
    "    time.sleep(2) \n",
    "    \n",
    "    next_button = driver.find_element(By.XPATH, '//li[@ng-click=\"nextPage()\"]')    \n",
    "    driver.execute_script(\"arguments[0].click();\", next_button) # for click \n",
    "    driver.implicitly_wait(2) # waiting for 2 seconds to load the website fully \n",
    "    \n",
    "driver.quit() #after completing the tast quit the driver\n"
   ]
  },
  {
   "cell_type": "markdown",
   "id": "ae787ee3",
   "metadata": {},
   "source": [
    "# Creating a dataframe"
   ]
  },
  {
   "cell_type": "code",
   "execution_count": 6,
   "id": "f4f0cb9f",
   "metadata": {},
   "outputs": [],
   "source": [
    "df = pd.DataFrame({\"Company Name & Postion\": job_name, \"Location\": location, \n",
    "                   \"Founded\": founded, \"Employees\": employees,\n",
    "                   \"About\": about, \"Skills\": skills, \"Job portal Link\": links})"
   ]
  },
  {
   "cell_type": "markdown",
   "id": "c141abb1",
   "metadata": {},
   "source": [
    "# Cleaning"
   ]
  },
  {
   "cell_type": "code",
   "execution_count": 10,
   "id": "a9f9e564",
   "metadata": {},
   "outputs": [
    {
     "data": {
      "text/plain": [
       "True"
      ]
     },
     "execution_count": 10,
     "metadata": {},
     "output_type": "execute_result"
    }
   ],
   "source": [
    "#checking the null values\n",
    "df.isnull().sum().any()"
   ]
  },
  {
   "cell_type": "code",
   "execution_count": 22,
   "id": "98549512",
   "metadata": {},
   "outputs": [
    {
     "data": {
      "text/html": [
       "<div>\n",
       "<style scoped>\n",
       "    .dataframe tbody tr th:only-of-type {\n",
       "        vertical-align: middle;\n",
       "    }\n",
       "\n",
       "    .dataframe tbody tr th {\n",
       "        vertical-align: top;\n",
       "    }\n",
       "\n",
       "    .dataframe thead th {\n",
       "        text-align: right;\n",
       "    }\n",
       "</style>\n",
       "<table border=\"1\" class=\"dataframe\">\n",
       "  <thead>\n",
       "    <tr style=\"text-align: right;\">\n",
       "      <th></th>\n",
       "      <th>Company Name &amp; Postion</th>\n",
       "      <th>Location</th>\n",
       "      <th>Founded</th>\n",
       "      <th>Employees</th>\n",
       "      <th>About</th>\n",
       "      <th>Skills</th>\n",
       "      <th>Job portal Link</th>\n",
       "    </tr>\n",
       "  </thead>\n",
       "  <tbody>\n",
       "    <tr>\n",
       "      <th>0</th>\n",
       "      <td>Adobe - Site Reliability Engineer</td>\n",
       "      <td>Job available in Noida</td>\n",
       "      <td>Founded in 1982</td>\n",
       "      <td>More than 1000 employees</td>\n",
       "      <td>Founded in 1982 and headquartered in San Jose,...</td>\n",
       "      <td>[Python, AWS, Ansible, Build Tools, CI - CD, C...</td>\n",
       "      <td>https://www.instahyre.com/job-312716-site-reli...</td>\n",
       "    </tr>\n",
       "    <tr>\n",
       "      <th>1</th>\n",
       "      <td>ANZ Bank - Data Engineer</td>\n",
       "      <td>Job available in Bangalore</td>\n",
       "      <td>Founded in 1900</td>\n",
       "      <td>More than 1000 employees</td>\n",
       "      <td>ANZ Bank was formed in 1835 in London. They pr...</td>\n",
       "      <td>[Python]</td>\n",
       "      <td>https://www.instahyre.com/job-312745-data-engi...</td>\n",
       "    </tr>\n",
       "    <tr>\n",
       "      <th>2</th>\n",
       "      <td>Broadridge - AI Senior Developer</td>\n",
       "      <td>Job available in Bangalore</td>\n",
       "      <td>Founded in 1962</td>\n",
       "      <td>More than 1000 employees</td>\n",
       "      <td>Broadridge is a financial services organizatio...</td>\n",
       "      <td>[Python, Machine Learning, SQL, TensorFlow, AWS]</td>\n",
       "      <td>https://www.instahyre.com/job-312867-ai-senior...</td>\n",
       "    </tr>\n",
       "    <tr>\n",
       "      <th>3</th>\n",
       "      <td>Broadridge - QA Automation Tester (Python)</td>\n",
       "      <td>Job available in Bangalore</td>\n",
       "      <td>Founded in 1962</td>\n",
       "      <td>More than 1000 employees</td>\n",
       "      <td>Broadridge is a financial services organizatio...</td>\n",
       "      <td>[Python, Automation Testing, Selenium, Quality...</td>\n",
       "      <td>https://www.instahyre.com/job-312785-qa-automa...</td>\n",
       "    </tr>\n",
       "    <tr>\n",
       "      <th>4</th>\n",
       "      <td>CS Soft Solutions - API Test Engineer</td>\n",
       "      <td>Job available in Work From Home</td>\n",
       "      <td>Founded in 2009</td>\n",
       "      <td>200 - 500 employees</td>\n",
       "      <td>CS Soft Solutions is an IT service company tha...</td>\n",
       "      <td>[Python, API Testing, Selenium, Automation Tes...</td>\n",
       "      <td>https://www.instahyre.com/job-312786-api-test-...</td>\n",
       "    </tr>\n",
       "    <tr>\n",
       "      <th>...</th>\n",
       "      <td>...</td>\n",
       "      <td>...</td>\n",
       "      <td>...</td>\n",
       "      <td>...</td>\n",
       "      <td>...</td>\n",
       "      <td>...</td>\n",
       "      <td>...</td>\n",
       "    </tr>\n",
       "    <tr>\n",
       "      <th>498</th>\n",
       "      <td>epiFi - Product Analyst</td>\n",
       "      <td>Job available in Bangalore</td>\n",
       "      <td>Founded in 2019</td>\n",
       "      <td>50 - 200 employees</td>\n",
       "      <td>Ganit provides solutions at the intersection o...</td>\n",
       "      <td>[Python, Power BI, QlikView, R, SQL, Tableau]</td>\n",
       "      <td>https://www.instahyre.com/job-298168-product-a...</td>\n",
       "    </tr>\n",
       "    <tr>\n",
       "      <th>499</th>\n",
       "      <td>Ganit - Senior Data Engineer - GCP</td>\n",
       "      <td>Job available in Bangalore</td>\n",
       "      <td>Founded in 2017</td>\n",
       "      <td>50 - 200 employees</td>\n",
       "      <td>HSBC is a British multinational banking and fi...</td>\n",
       "      <td>[Python, Google Cloud, Spark, Scala, ETL]</td>\n",
       "      <td>https://www.instahyre.com/job-298251-senior-da...</td>\n",
       "    </tr>\n",
       "    <tr>\n",
       "      <th>500</th>\n",
       "      <td>HSBC - Software Test Engineer</td>\n",
       "      <td>Job available in Bangalore</td>\n",
       "      <td>Founded in 1865</td>\n",
       "      <td>More than 1000 employees</td>\n",
       "      <td>Kenvue is a healthcare company and a subsidiar...</td>\n",
       "      <td>[Python, Selenium, Manual Testing, Automation ...</td>\n",
       "      <td>https://www.instahyre.com/job-298516-software-...</td>\n",
       "    </tr>\n",
       "    <tr>\n",
       "      <th>501</th>\n",
       "      <td>Kenvue - Principal Engineer</td>\n",
       "      <td>Job available in Bangalore</td>\n",
       "      <td>Founded in 2022</td>\n",
       "      <td>More than 1000 employees</td>\n",
       "      <td>Luxoft is a leading provider of software devel...</td>\n",
       "      <td>[Python, DevOps, AWS, Azure, Ansible]</td>\n",
       "      <td>https://www.instahyre.com/job-298541-principal...</td>\n",
       "    </tr>\n",
       "    <tr>\n",
       "      <th>502</th>\n",
       "      <td>Luxoft - Python Developer</td>\n",
       "      <td>Job available in Work From Home</td>\n",
       "      <td>Founded in 2000</td>\n",
       "      <td>More than 1000 employees</td>\n",
       "      <td>Nykaa is an eCommerce store focused on beauty ...</td>\n",
       "      <td>[Python, Django, Flask]</td>\n",
       "      <td>https://www.instahyre.com/job-298252-python-de...</td>\n",
       "    </tr>\n",
       "  </tbody>\n",
       "</table>\n",
       "<p>503 rows × 7 columns</p>\n",
       "</div>"
      ],
      "text/plain": [
       "                         Company Name & Postion  \\\n",
       "0             Adobe - Site Reliability Engineer   \n",
       "1                      ANZ Bank - Data Engineer   \n",
       "2              Broadridge - AI Senior Developer   \n",
       "3    Broadridge - QA Automation Tester (Python)   \n",
       "4         CS Soft Solutions - API Test Engineer   \n",
       "..                                          ...   \n",
       "498                     epiFi - Product Analyst   \n",
       "499          Ganit - Senior Data Engineer - GCP   \n",
       "500               HSBC - Software Test Engineer   \n",
       "501                 Kenvue - Principal Engineer   \n",
       "502                   Luxoft - Python Developer   \n",
       "\n",
       "                            Location          Founded  \\\n",
       "0             Job available in Noida  Founded in 1982   \n",
       "1         Job available in Bangalore  Founded in 1900   \n",
       "2         Job available in Bangalore  Founded in 1962   \n",
       "3         Job available in Bangalore  Founded in 1962   \n",
       "4    Job available in Work From Home  Founded in 2009   \n",
       "..                               ...              ...   \n",
       "498       Job available in Bangalore  Founded in 2019   \n",
       "499       Job available in Bangalore  Founded in 2017   \n",
       "500       Job available in Bangalore  Founded in 1865   \n",
       "501       Job available in Bangalore  Founded in 2022   \n",
       "502  Job available in Work From Home  Founded in 2000   \n",
       "\n",
       "                    Employees  \\\n",
       "0    More than 1000 employees   \n",
       "1    More than 1000 employees   \n",
       "2    More than 1000 employees   \n",
       "3    More than 1000 employees   \n",
       "4         200 - 500 employees   \n",
       "..                        ...   \n",
       "498        50 - 200 employees   \n",
       "499        50 - 200 employees   \n",
       "500  More than 1000 employees   \n",
       "501  More than 1000 employees   \n",
       "502  More than 1000 employees   \n",
       "\n",
       "                                                 About  \\\n",
       "0    Founded in 1982 and headquartered in San Jose,...   \n",
       "1    ANZ Bank was formed in 1835 in London. They pr...   \n",
       "2    Broadridge is a financial services organizatio...   \n",
       "3    Broadridge is a financial services organizatio...   \n",
       "4    CS Soft Solutions is an IT service company tha...   \n",
       "..                                                 ...   \n",
       "498  Ganit provides solutions at the intersection o...   \n",
       "499  HSBC is a British multinational banking and fi...   \n",
       "500  Kenvue is a healthcare company and a subsidiar...   \n",
       "501  Luxoft is a leading provider of software devel...   \n",
       "502  Nykaa is an eCommerce store focused on beauty ...   \n",
       "\n",
       "                                                Skills  \\\n",
       "0    [Python, AWS, Ansible, Build Tools, CI - CD, C...   \n",
       "1                                             [Python]   \n",
       "2     [Python, Machine Learning, SQL, TensorFlow, AWS]   \n",
       "3    [Python, Automation Testing, Selenium, Quality...   \n",
       "4    [Python, API Testing, Selenium, Automation Tes...   \n",
       "..                                                 ...   \n",
       "498      [Python, Power BI, QlikView, R, SQL, Tableau]   \n",
       "499          [Python, Google Cloud, Spark, Scala, ETL]   \n",
       "500  [Python, Selenium, Manual Testing, Automation ...   \n",
       "501              [Python, DevOps, AWS, Azure, Ansible]   \n",
       "502                            [Python, Django, Flask]   \n",
       "\n",
       "                                       Job portal Link  \n",
       "0    https://www.instahyre.com/job-312716-site-reli...  \n",
       "1    https://www.instahyre.com/job-312745-data-engi...  \n",
       "2    https://www.instahyre.com/job-312867-ai-senior...  \n",
       "3    https://www.instahyre.com/job-312785-qa-automa...  \n",
       "4    https://www.instahyre.com/job-312786-api-test-...  \n",
       "..                                                 ...  \n",
       "498  https://www.instahyre.com/job-298168-product-a...  \n",
       "499  https://www.instahyre.com/job-298251-senior-da...  \n",
       "500  https://www.instahyre.com/job-298516-software-...  \n",
       "501  https://www.instahyre.com/job-298541-principal...  \n",
       "502  https://www.instahyre.com/job-298252-python-de...  \n",
       "\n",
       "[503 rows x 7 columns]"
      ]
     },
     "execution_count": 22,
     "metadata": {},
     "output_type": "execute_result"
    }
   ],
   "source": [
    "# removing the null values and creating a new dataframe\n",
    "\n",
    "df2 = df.dropna()\n",
    "df2.reset_index(drop = True)"
   ]
  },
  {
   "cell_type": "code",
   "execution_count": 23,
   "id": "2e1b315b",
   "metadata": {},
   "outputs": [
    {
     "data": {
      "text/plain": [
       "Company Name & Postion    0\n",
       "Location                  0\n",
       "Founded                   0\n",
       "Employees                 0\n",
       "About                     0\n",
       "Skills                    0\n",
       "Job portal Link           0\n",
       "dtype: int64"
      ]
     },
     "execution_count": 23,
     "metadata": {},
     "output_type": "execute_result"
    }
   ],
   "source": [
    "df2.isnull().sum()"
   ]
  },
  {
   "cell_type": "markdown",
   "id": "8f67eaf6",
   "metadata": {},
   "source": [
    "# Exporting the dataframe into a excel file"
   ]
  },
  {
   "cell_type": "code",
   "execution_count": 26,
   "id": "aad4e045",
   "metadata": {},
   "outputs": [],
   "source": [
    "df2.to_excel(r\"C:\\Users\\CW\\OneDrive\\Desktop\\MASAI\\PROJECTS\\PYTHON PROJECTS\\Web Scraping project 1\\Job detail.xlsx\", index = False)"
   ]
  }
 ],
 "metadata": {
  "kernelspec": {
   "display_name": "Python 3 (ipykernel)",
   "language": "python",
   "name": "python3"
  },
  "language_info": {
   "codemirror_mode": {
    "name": "ipython",
    "version": 3
   },
   "file_extension": ".py",
   "mimetype": "text/x-python",
   "name": "python",
   "nbconvert_exporter": "python",
   "pygments_lexer": "ipython3",
   "version": "3.11.5"
  }
 },
 "nbformat": 4,
 "nbformat_minor": 5
}
